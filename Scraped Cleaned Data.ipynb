{
 "cells": [
  {
   "cell_type": "code",
   "execution_count": 139,
   "metadata": {},
   "outputs": [],
   "source": [
    "import pandas as pd  \n",
    "import numpy as np\n",
    "import matplotlib\n",
    "import matplotlib.pyplot as plt  \n",
    "import seaborn as seabornInstance \n",
    "from sklearn.model_selection import train_test_split \n",
    "from sklearn.linear_model import LinearRegression\n",
    "from sklearn import metrics\n",
    "%matplotlib inline\n",
    "import warnings; warnings.simplefilter('ignore')\n",
    "from datetime import date\n",
    "from datetime import datetime"
   ]
  },
  {
   "cell_type": "markdown",
   "metadata": {},
   "source": [
    "# Inspect Scraped Data"
   ]
  },
  {
   "cell_type": "code",
   "execution_count": 140,
   "metadata": {},
   "outputs": [],
   "source": [
    "# read in the scraped data CSV\n",
    "df_original_scrape = pd.read_csv ('all_scraped_recipes.csv')"
   ]
  },
  {
   "cell_type": "code",
   "execution_count": 141,
   "metadata": {},
   "outputs": [
    {
     "data": {
      "text/plain": [
       "38"
      ]
     },
     "execution_count": 141,
     "metadata": {},
     "output_type": "execute_result"
    }
   ],
   "source": [
    "# find the number of columns in the data frame\n",
    "len(df_original_scrape.columns)"
   ]
  },
  {
   "cell_type": "code",
   "execution_count": 142,
   "metadata": {},
   "outputs": [],
   "source": [
    "# df_original_scrape.head(1)"
   ]
  },
  {
   "cell_type": "code",
   "execution_count": 143,
   "metadata": {},
   "outputs": [],
   "source": [
    "# rename columns for clarity\n",
    "df_original_scrape.rename(columns = {'ingredients': 'ingredients_string'}, inplace=True)\n",
    "df_original_scrape.rename(columns = {'ingredient': 'ingredients_list'}, inplace=True)"
   ]
  },
  {
   "cell_type": "code",
   "execution_count": 144,
   "metadata": {},
   "outputs": [],
   "source": [
    "# drop the columns that can't be used for anything\n",
    "# col 'partner' only has 102 entries, all are 'harpercollins', this is captured in col 'source'\n",
    "\n",
    "drop_col = ['active_time', 'image_url', 'date', 'url', 'partner' , 'rating_normalized', 'rating_factor']\n",
    "df_original_scrape.drop(columns = drop_col, inplace = True)"
   ]
  },
  {
   "cell_type": "code",
   "execution_count": 145,
   "metadata": {},
   "outputs": [],
   "source": [
    "# df_original_scrape.describe()"
   ]
  },
  {
   "cell_type": "code",
   "execution_count": 146,
   "metadata": {},
   "outputs": [
    {
     "data": {
      "text/plain": [
       "author                    object\n",
       "ingredients_string        object\n",
       "make_again                object\n",
       "month                     object\n",
       "rating                   float64\n",
       "reviews                  float64\n",
       "title                     object\n",
       "year                     float64\n",
       "cuisine                   object\n",
       "technique                 object\n",
       "occasion                  object\n",
       "meal                      object\n",
       "ingredients_list          object\n",
       "special-consideration     object\n",
       "type                      object\n",
       "source                    object\n",
       "equipment                 object\n",
       "tag                       object\n",
       "location                  object\n",
       "cal                      float64\n",
       "carb                      object\n",
       "fat                       object\n",
       "protein                   object\n",
       "sat_fat                   object\n",
       "sodium                    object\n",
       "polyunsat_fat             object\n",
       "fiber                     object\n",
       "monounsat_fat             object\n",
       "cholesterol               object\n",
       "servings                  object\n",
       "ingredients_count          int64\n",
       "dtype: object"
      ]
     },
     "execution_count": 146,
     "metadata": {},
     "output_type": "execute_result"
    }
   ],
   "source": [
    "df_original_scrape.dtypes"
   ]
  },
  {
   "cell_type": "markdown",
   "metadata": {},
   "source": [
    "# Parse Columns With Numeric Values"
   ]
  },
  {
   "cell_type": "code",
   "execution_count": 147,
   "metadata": {},
   "outputs": [],
   "source": [
    "def parse_numeric_value(param):\n",
    "    retVal = ''\n",
    "    try:\n",
    "        for v in list(param):\n",
    "            if v.isnumeric():\n",
    "                retVal += v\n",
    "            else:\n",
    "                break;\n",
    "    except Exception:\n",
    "        retVal = 'Nan'\n",
    "    return float(retVal)"
   ]
  },
  {
   "cell_type": "code",
   "execution_count": 148,
   "metadata": {},
   "outputs": [],
   "source": [
    "def parse_servings(param):\n",
    "    retVal = 'Nan'\n",
    "    try:\n",
    "        param = param.replace(\"(\", \"\")\n",
    "        param = param.replace(\")\", \"\")\n",
    "    #     print(param)\n",
    "        for v in param.split():\n",
    "    #         print(v)\n",
    "            if v.isnumeric():\n",
    "                retVal = v;\n",
    "                break;\n",
    "    except Exception:\n",
    "        retVal = 'Nan'\n",
    "    return float(retVal)"
   ]
  },
  {
   "cell_type": "code",
   "execution_count": 149,
   "metadata": {},
   "outputs": [],
   "source": [
    "cols = ['carb', 'fat', 'protein', 'sat_fat','sodium', 'polyunsat_fat', 'fiber', 'monounsat_fat', 'cholesterol', 'make_again']"
   ]
  },
  {
   "cell_type": "code",
   "execution_count": 150,
   "metadata": {},
   "outputs": [],
   "source": [
    "new_cols = ['carb_split', 'fat_split', 'protein_split', 'sat_fat_split','sodium_split', 'polyunsat_fat_split', 'fiber_split', 'monounsat_fat_split', 'cholesterol_split', 'make_again_split']"
   ]
  },
  {
   "cell_type": "code",
   "execution_count": 151,
   "metadata": {},
   "outputs": [],
   "source": [
    "index = 0\n",
    "for col in cols:\n",
    "    new_col=new_cols[index]\n",
    "    df_original_scrape[new_col] = df_original_scrape[col].apply(parse_numeric_value)\n",
    "    index +=1"
   ]
  },
  {
   "cell_type": "code",
   "execution_count": 152,
   "metadata": {},
   "outputs": [],
   "source": [
    "df_original_scrape['servings_split'] = df_original_scrape['servings'].apply(parse_servings)"
   ]
  },
  {
   "cell_type": "code",
   "execution_count": 153,
   "metadata": {},
   "outputs": [],
   "source": [
    "# df_original_scrape.dtypes"
   ]
  },
  {
   "cell_type": "code",
   "execution_count": 154,
   "metadata": {},
   "outputs": [],
   "source": [
    "# df_original_scrape.boxplot(figsize=(30, 6))"
   ]
  },
  {
   "cell_type": "code",
   "execution_count": 155,
   "metadata": {},
   "outputs": [
    {
     "data": {
      "text/plain": [
       "37085"
      ]
     },
     "execution_count": 155,
     "metadata": {},
     "output_type": "execute_result"
    }
   ],
   "source": [
    "df_original_scrape.shape[0]"
   ]
  },
  {
   "cell_type": "code",
   "execution_count": 156,
   "metadata": {},
   "outputs": [],
   "source": [
    "# df_original_scrape.isna().sum()"
   ]
  },
  {
   "cell_type": "code",
   "execution_count": 157,
   "metadata": {},
   "outputs": [],
   "source": [
    "# drop NaN values\n",
    "# df_original_scrape = df_original_scrape.dropna()\n",
    "# df_original_scrape.shape[0] # number of rows and columns"
   ]
  },
  {
   "cell_type": "code",
   "execution_count": 158,
   "metadata": {},
   "outputs": [],
   "source": [
    "# add value counts from meal, cuisine, and tag to get tags_count\n",
    "\n",
    "# add a column for count of tags\n",
    "# df_original_scrape['tags_count'] = df_original_scrape['tag'].apply(lambda x: len(x))"
   ]
  },
  {
   "cell_type": "code",
   "execution_count": 159,
   "metadata": {},
   "outputs": [],
   "source": [
    "# change the categories header to tags\n",
    "df_original_scrape.rename(columns = {'categories': 'tag'}, inplace=True)"
   ]
  },
  {
   "cell_type": "code",
   "execution_count": 160,
   "metadata": {},
   "outputs": [],
   "source": [
    "# df_original_scrape['date'] = df_original_scrape['date'].dropna()"
   ]
  },
  {
   "cell_type": "code",
   "execution_count": 161,
   "metadata": {},
   "outputs": [],
   "source": [
    "# write a function that converts month name to a number\n",
    "def month_string_to_number(string):\n",
    "    m = {\n",
    "        'jan': 1,\n",
    "        'feb': 2,\n",
    "        'mar': 3,\n",
    "        'apr':4,\n",
    "         'may':5,\n",
    "         'jun':6,\n",
    "         'jul':7,\n",
    "         'aug':8,\n",
    "         'sep':9,\n",
    "         'oct':10,\n",
    "         'nov':11,\n",
    "         'dec':12\n",
    "        }\n",
    "    s = str(string).strip()[:3].lower()\n",
    "\n",
    "    try:\n",
    "        out = m[s]\n",
    "        return out\n",
    "    except:\n",
    "        return"
   ]
  },
  {
   "cell_type": "code",
   "execution_count": 162,
   "metadata": {},
   "outputs": [],
   "source": [
    "df_original_scrape['month_num'] = df_original_scrape['month'].apply(month_string_to_number)"
   ]
  },
  {
   "cell_type": "code",
   "execution_count": 163,
   "metadata": {},
   "outputs": [],
   "source": [
    "df_original_scrape['year_num'] = (2020 - df_original_scrape['year'])"
   ]
  },
  {
   "cell_type": "code",
   "execution_count": 164,
   "metadata": {},
   "outputs": [],
   "source": [
    "df_original_scrape['age_recipe'] = (2020 - df_original_scrape['year']) + df_original_scrape['month_num']/12"
   ]
  },
  {
   "cell_type": "code",
   "execution_count": 165,
   "metadata": {},
   "outputs": [
    {
     "data": {
      "text/html": [
       "<div>\n",
       "<style scoped>\n",
       "    .dataframe tbody tr th:only-of-type {\n",
       "        vertical-align: middle;\n",
       "    }\n",
       "\n",
       "    .dataframe tbody tr th {\n",
       "        vertical-align: top;\n",
       "    }\n",
       "\n",
       "    .dataframe thead th {\n",
       "        text-align: right;\n",
       "    }\n",
       "</style>\n",
       "<table border=\"1\" class=\"dataframe\">\n",
       "  <thead>\n",
       "    <tr style=\"text-align: right;\">\n",
       "      <th></th>\n",
       "      <th>author</th>\n",
       "      <th>ingredients_string</th>\n",
       "      <th>make_again</th>\n",
       "      <th>month</th>\n",
       "      <th>rating</th>\n",
       "      <th>reviews</th>\n",
       "      <th>title</th>\n",
       "      <th>year</th>\n",
       "      <th>cuisine</th>\n",
       "      <th>technique</th>\n",
       "      <th>...</th>\n",
       "      <th>sodium_split</th>\n",
       "      <th>polyunsat_fat_split</th>\n",
       "      <th>fiber_split</th>\n",
       "      <th>monounsat_fat_split</th>\n",
       "      <th>cholesterol_split</th>\n",
       "      <th>make_again_split</th>\n",
       "      <th>servings_split</th>\n",
       "      <th>month_num</th>\n",
       "      <th>year_num</th>\n",
       "      <th>age_recipe</th>\n",
       "    </tr>\n",
       "  </thead>\n",
       "  <tbody>\n",
       "    <tr>\n",
       "      <th>0</th>\n",
       "      <td>Joyce Goldstein</td>\n",
       "      <td>['4 tablespoons olive oil', '2 large onions, c...</td>\n",
       "      <td>90%</td>\n",
       "      <td>September</td>\n",
       "      <td>3.5</td>\n",
       "      <td>19.0</td>\n",
       "      <td>Braised Meat with Butternut Squash</td>\n",
       "      <td>1998.0</td>\n",
       "      <td>['italian', 'jewish']</td>\n",
       "      <td>['braise', 'stew']</td>\n",
       "      <td>...</td>\n",
       "      <td>848.0</td>\n",
       "      <td>2.0</td>\n",
       "      <td>2.0</td>\n",
       "      <td>8.0</td>\n",
       "      <td>129.0</td>\n",
       "      <td>90.0</td>\n",
       "      <td>6.0</td>\n",
       "      <td>9.0</td>\n",
       "      <td>22.0</td>\n",
       "      <td>22.75</td>\n",
       "    </tr>\n",
       "    <tr>\n",
       "      <th>1</th>\n",
       "      <td>Joyce Goldstein</td>\n",
       "      <td>['1 lemon', '1 roasting chicken, about 5 pound...</td>\n",
       "      <td>83%</td>\n",
       "      <td>September</td>\n",
       "      <td>3.0</td>\n",
       "      <td>53.0</td>\n",
       "      <td>Roast Chicken with Orange, Lemon, and Ginger</td>\n",
       "      <td>1998.0</td>\n",
       "      <td>['italian', 'jewish']</td>\n",
       "      <td>['roast', 'saute']</td>\n",
       "      <td>...</td>\n",
       "      <td>1658.0</td>\n",
       "      <td>16.0</td>\n",
       "      <td>2.0</td>\n",
       "      <td>39.0</td>\n",
       "      <td>356.0</td>\n",
       "      <td>83.0</td>\n",
       "      <td>4.0</td>\n",
       "      <td>9.0</td>\n",
       "      <td>22.0</td>\n",
       "      <td>22.75</td>\n",
       "    </tr>\n",
       "    <tr>\n",
       "      <th>2</th>\n",
       "      <td>Faith Willinger</td>\n",
       "      <td>['1 cup (about 6 ounces) half-peeled emmer, sp...</td>\n",
       "      <td>71%</td>\n",
       "      <td>September</td>\n",
       "      <td>4.0</td>\n",
       "      <td>7.0</td>\n",
       "      <td>Massimo's \"Farinella\"</td>\n",
       "      <td>1996.0</td>\n",
       "      <td>['italian']</td>\n",
       "      <td>['chill']</td>\n",
       "      <td>...</td>\n",
       "      <td>990.0</td>\n",
       "      <td>1.0</td>\n",
       "      <td>2.0</td>\n",
       "      <td>6.0</td>\n",
       "      <td>NaN</td>\n",
       "      <td>71.0</td>\n",
       "      <td>6.0</td>\n",
       "      <td>9.0</td>\n",
       "      <td>24.0</td>\n",
       "      <td>24.75</td>\n",
       "    </tr>\n",
       "    <tr>\n",
       "      <th>3</th>\n",
       "      <td>Faith Willinger</td>\n",
       "      <td>['1 large (about 1/2 pound) boiling potatoes',...</td>\n",
       "      <td>85%</td>\n",
       "      <td>September</td>\n",
       "      <td>3.0</td>\n",
       "      <td>27.0</td>\n",
       "      <td>Franco's Pasta with Zucchini and Potatoes</td>\n",
       "      <td>1996.0</td>\n",
       "      <td>['italian']</td>\n",
       "      <td>NaN</td>\n",
       "      <td>...</td>\n",
       "      <td>793.0</td>\n",
       "      <td>1.0</td>\n",
       "      <td>4.0</td>\n",
       "      <td>9.0</td>\n",
       "      <td>39.0</td>\n",
       "      <td>85.0</td>\n",
       "      <td>6.0</td>\n",
       "      <td>9.0</td>\n",
       "      <td>24.0</td>\n",
       "      <td>24.75</td>\n",
       "    </tr>\n",
       "    <tr>\n",
       "      <th>4</th>\n",
       "      <td>Joan Nathan</td>\n",
       "      <td>['1 4-pound frying chicken, cut up into 8 piec...</td>\n",
       "      <td>71%</td>\n",
       "      <td>September</td>\n",
       "      <td>3.0</td>\n",
       "      <td>5.0</td>\n",
       "      <td>Jennie June's Brown Fricassée Chicken</td>\n",
       "      <td>1998.0</td>\n",
       "      <td>['jewish']</td>\n",
       "      <td>NaN</td>\n",
       "      <td>...</td>\n",
       "      <td>1138.0</td>\n",
       "      <td>8.0</td>\n",
       "      <td>3.0</td>\n",
       "      <td>23.0</td>\n",
       "      <td>154.0</td>\n",
       "      <td>71.0</td>\n",
       "      <td>6.0</td>\n",
       "      <td>9.0</td>\n",
       "      <td>22.0</td>\n",
       "      <td>22.75</td>\n",
       "    </tr>\n",
       "  </tbody>\n",
       "</table>\n",
       "<p>5 rows × 45 columns</p>\n",
       "</div>"
      ],
      "text/plain": [
       "            author                                 ingredients_string  \\\n",
       "0  Joyce Goldstein  ['4 tablespoons olive oil', '2 large onions, c...   \n",
       "1  Joyce Goldstein  ['1 lemon', '1 roasting chicken, about 5 pound...   \n",
       "2  Faith Willinger  ['1 cup (about 6 ounces) half-peeled emmer, sp...   \n",
       "3  Faith Willinger  ['1 large (about 1/2 pound) boiling potatoes',...   \n",
       "4      Joan Nathan  ['1 4-pound frying chicken, cut up into 8 piec...   \n",
       "\n",
       "  make_again      month  rating  reviews  \\\n",
       "0        90%  September     3.5     19.0   \n",
       "1        83%  September     3.0     53.0   \n",
       "2        71%  September     4.0      7.0   \n",
       "3        85%  September     3.0     27.0   \n",
       "4        71%  September     3.0      5.0   \n",
       "\n",
       "                                           title    year  \\\n",
       "0            Braised Meat with Butternut Squash   1998.0   \n",
       "1  Roast Chicken with Orange, Lemon, and Ginger   1998.0   \n",
       "2                         Massimo's \"Farinella\"   1996.0   \n",
       "3     Franco's Pasta with Zucchini and Potatoes   1996.0   \n",
       "4         Jennie June's Brown Fricassée Chicken   1998.0   \n",
       "\n",
       "                 cuisine           technique  ... sodium_split  \\\n",
       "0  ['italian', 'jewish']  ['braise', 'stew']  ...        848.0   \n",
       "1  ['italian', 'jewish']  ['roast', 'saute']  ...       1658.0   \n",
       "2            ['italian']           ['chill']  ...        990.0   \n",
       "3            ['italian']                 NaN  ...        793.0   \n",
       "4             ['jewish']                 NaN  ...       1138.0   \n",
       "\n",
       "  polyunsat_fat_split fiber_split monounsat_fat_split cholesterol_split  \\\n",
       "0                 2.0         2.0                 8.0             129.0   \n",
       "1                16.0         2.0                39.0             356.0   \n",
       "2                 1.0         2.0                 6.0               NaN   \n",
       "3                 1.0         4.0                 9.0              39.0   \n",
       "4                 8.0         3.0                23.0             154.0   \n",
       "\n",
       "  make_again_split servings_split month_num year_num  age_recipe  \n",
       "0             90.0            6.0       9.0     22.0       22.75  \n",
       "1             83.0            4.0       9.0     22.0       22.75  \n",
       "2             71.0            6.0       9.0     24.0       24.75  \n",
       "3             85.0            6.0       9.0     24.0       24.75  \n",
       "4             71.0            6.0       9.0     22.0       22.75  \n",
       "\n",
       "[5 rows x 45 columns]"
      ]
     },
     "execution_count": 165,
     "metadata": {},
     "output_type": "execute_result"
    }
   ],
   "source": [
    "df_original_scrape.head()"
   ]
  },
  {
   "cell_type": "code",
   "execution_count": 166,
   "metadata": {},
   "outputs": [],
   "source": [
    "df_original_scrape.to_csv('df_original_scrape.csv', index=False)"
   ]
  },
  {
   "cell_type": "markdown",
   "metadata": {},
   "source": [
    "# Data Visualization"
   ]
  },
  {
   "cell_type": "code",
   "execution_count": 167,
   "metadata": {},
   "outputs": [],
   "source": [
    "# read in updated scraped data\n",
    "df_vis = pd.read_csv ('df_original_scrape.csv')"
   ]
  },
  {
   "cell_type": "code",
   "execution_count": 168,
   "metadata": {},
   "outputs": [],
   "source": [
    "# let's update to a new dataframe name for visualization \n",
    "# df_vis = df_original_scrape"
   ]
  },
  {
   "cell_type": "code",
   "execution_count": 169,
   "metadata": {},
   "outputs": [],
   "source": [
    "# df_vis.head()"
   ]
  },
  {
   "cell_type": "code",
   "execution_count": 170,
   "metadata": {},
   "outputs": [],
   "source": [
    "# df_vis.describe()"
   ]
  },
  {
   "cell_type": "code",
   "execution_count": 171,
   "metadata": {
    "scrolled": true
   },
   "outputs": [
    {
     "data": {
      "text/plain": [
       "<matplotlib.axes._subplots.AxesSubplot at 0x1a3d003208>"
      ]
     },
     "execution_count": 171,
     "metadata": {},
     "output_type": "execute_result"
    },
    {
     "data": {
      "image/png": "[encoded data removed]",
      "text/plain": [
       "<Figure size 2160x432 with 1 Axes>"
      ]
     },
     "metadata": {
      "needs_background": "light"
     },
     "output_type": "display_data"
    }
   ],
   "source": [
    "df_vis.boxplot(figsize=(30, 6))"
   ]
  },
  {
   "cell_type": "code",
   "execution_count": 120,
   "metadata": {},
   "outputs": [],
   "source": [
    "cols = ['rating', 'reviews','year', 'cal', 'fat', 'protein', 'ingredients_count', \n",
    "        'carb_split', 'sat_fat_split', 'sodium_split', 'polyunsat_fat_split', 'fiber_split',\n",
    "        'monounsat_fat_split', 'cholesterol_split', 'make_again_split', 'servings_split']"
   ]
  },
  {
   "cell_type": "code",
   "execution_count": 121,
   "metadata": {},
   "outputs": [
    {
     "data": {
      "text/html": [
       "<div>\n",
       "<style scoped>\n",
       "    .dataframe tbody tr th:only-of-type {\n",
       "        vertical-align: middle;\n",
       "    }\n",
       "\n",
       "    .dataframe tbody tr th {\n",
       "        vertical-align: top;\n",
       "    }\n",
       "\n",
       "    .dataframe thead th {\n",
       "        text-align: right;\n",
       "    }\n",
       "</style>\n",
       "<table border=\"1\" class=\"dataframe\">\n",
       "  <thead>\n",
       "    <tr style=\"text-align: right;\">\n",
       "      <th></th>\n",
       "      <th>rating</th>\n",
       "      <th>counts</th>\n",
       "      <th>percentage</th>\n",
       "    </tr>\n",
       "  </thead>\n",
       "  <tbody>\n",
       "    <tr>\n",
       "      <th>0</th>\n",
       "      <td>3.5</td>\n",
       "      <td>14373</td>\n",
       "      <td>38.8%</td>\n",
       "    </tr>\n",
       "    <tr>\n",
       "      <th>1</th>\n",
       "      <td>3.0</td>\n",
       "      <td>9516</td>\n",
       "      <td>25.7%</td>\n",
       "    </tr>\n",
       "    <tr>\n",
       "      <th>2</th>\n",
       "      <td>4.0</td>\n",
       "      <td>5325</td>\n",
       "      <td>14.4%</td>\n",
       "    </tr>\n",
       "    <tr>\n",
       "      <th>3</th>\n",
       "      <td>0.0</td>\n",
       "      <td>3243</td>\n",
       "      <td>8.8%</td>\n",
       "    </tr>\n",
       "    <tr>\n",
       "      <th>4</th>\n",
       "      <td>2.5</td>\n",
       "      <td>2908</td>\n",
       "      <td>7.8%</td>\n",
       "    </tr>\n",
       "    <tr>\n",
       "      <th>5</th>\n",
       "      <td>2.0</td>\n",
       "      <td>1091</td>\n",
       "      <td>2.9%</td>\n",
       "    </tr>\n",
       "    <tr>\n",
       "      <th>6</th>\n",
       "      <td>1.0</td>\n",
       "      <td>343</td>\n",
       "      <td>0.9%</td>\n",
       "    </tr>\n",
       "    <tr>\n",
       "      <th>7</th>\n",
       "      <td>1.5</td>\n",
       "      <td>258</td>\n",
       "      <td>0.7%</td>\n",
       "    </tr>\n",
       "  </tbody>\n",
       "</table>\n",
       "</div>"
      ],
      "text/plain": [
       "   rating  counts percentage\n",
       "0     3.5   14373      38.8%\n",
       "1     3.0    9516      25.7%\n",
       "2     4.0    5325      14.4%\n",
       "3     0.0    3243       8.8%\n",
       "4     2.5    2908       7.8%\n",
       "5     2.0    1091       2.9%\n",
       "6     1.0     343       0.9%\n",
       "7     1.5     258       0.7%"
      ]
     },
     "execution_count": 121,
     "metadata": {},
     "output_type": "execute_result"
    }
   ],
   "source": [
    "# count the number of unique rating values\n",
    "rating_counts = df_vis['rating'].value_counts()\n",
    "\n",
    "# count the total number of ratings\n",
    "rc_total = df_vis['rating'].count()\n",
    "\n",
    "# \n",
    "rating_counts = rating_counts.rename_axis('rating').reset_index(name = 'counts')\n",
    "\n",
    "# unique rating value / total number of ratings * 100 = unique rating percentage\n",
    "rating_counts['percentage'] = ((rating_counts['counts']/rc_total)*100).map('{:,.1f}%'.format)\n",
    "rating_counts"
   ]
  },
  {
   "cell_type": "code",
   "execution_count": 122,
   "metadata": {},
   "outputs": [
    {
     "data": {
      "image/png": "[encoded data removed]",
      "text/plain": [
       "<Figure size 720x432 with 1 Axes>"
      ]
     },
     "metadata": {
      "needs_background": "light"
     },
     "output_type": "display_data"
    }
   ],
   "source": [
    "x_rating = rating_counts['rating']\n",
    "y_feature = rating_counts['counts']\n",
    "\n",
    "plt.figure(figsize=(10, 6)) \n",
    "labels = rating_counts['rating']\n",
    "barplot = plt.bar(x_rating, y_feature, width = 0.4, label = labels)\n",
    "\n",
    "bar_var = 0\n",
    "\n",
    "for bar in barplot:\n",
    "\n",
    "    label_height = bar.get_height()\n",
    "    label_value = rating_counts['percentage'][bar_var]\n",
    "\n",
    "    plt.text(bar.get_x() + bar.get_width()/3, label_height, label_value, va='bottom')\n",
    "    \n",
    "    bar_var += 1 \n",
    "        \n",
    "\n",
    "plt.title(\"SCRAPED Epicurious Recipe Rating Percentages\")\n",
    "plt.xticks(x_rating, labels)\n",
    "plt.xlabel(\"Recipe Rating\")\n",
    "plt.ylabel(\"Rating Frequency\")\n",
    "plt.tight_layout()"
   ]
  },
  {
   "cell_type": "code",
   "execution_count": 123,
   "metadata": {},
   "outputs": [
    {
     "data": {
      "image/png": "[encoded data removed]",
      "text/plain": [
       "<Figure size 432x288 with 1 Axes>"
      ]
     },
     "metadata": {
      "needs_background": "light"
     },
     "output_type": "display_data"
    }
   ],
   "source": [
    "x_rating = df_vis['year']\n",
    "y_feature = df_vis['rating']\n",
    "\n",
    "plt.scatter(x_rating, y_feature)\n",
    "plt.title(\"Age of Recipe vs Date\")\n",
    "plt.xlabel(\"Rating\")\n",
    "plt.ylabel(\"Age of Recipe\")\n",
    "plt.show()"
   ]
  },
  {
   "cell_type": "markdown",
   "metadata": {},
   "source": [
    "# Data Cleaning"
   ]
  },
  {
   "cell_type": "raw",
   "metadata": {},
   "source": [
    "- cross validation before over-sampling\n",
    "\n",
    "- oversamplinng mehtods:\n",
    "    - Random oversampling\n",
    "    - SMOTE\n",
    "    - ADASYN\n",
    "    \n",
    "    \n",
    "- ensemble models: building n models that use all the samples of the rare class and n-differing samples of the abundant class\n",
    "\n",
    "- ensmeble ratio in ensemble models: differing ratio of rare and abundant classes in the n-models\n",
    "\n",
    "- clustering the abundant class in r groups, with r being the number of cases in r\n"
   ]
  }
 ],
 "metadata": {
  "kernelspec": {
   "display_name": "Python 3",
   "language": "python",
   "name": "python3"
  },
  "language_info": {
   "codemirror_mode": {
    "name": "ipython",
    "version": 3
   },
   "file_extension": ".py",
   "mimetype": "text/x-python",
   "name": "python",
   "nbconvert_exporter": "python",
   "pygments_lexer": "ipython3",
   "version": "3.7.3"
  }
 },
 "nbformat": 4,
 "nbformat_minor": 2
}
